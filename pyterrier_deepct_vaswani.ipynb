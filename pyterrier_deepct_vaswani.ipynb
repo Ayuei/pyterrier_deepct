{
  "nbformat": 4,
  "nbformat_minor": 0,
  "metadata": {
    "colab": {
      "name": "Untitled55.ipynb",
      "provenance": [],
      "collapsed_sections": []
    },
    "kernelspec": {
      "name": "python3",
      "display_name": "Python 3"
    },
    "language_info": {
      "name": "python"
    },
    "accelerator": "GPU",
    "widgets": {
      "application/vnd.jupyter.widget-state+json": {
        "af4396da6fb340319a9f09cae8b9f870": {
          "model_module": "@jupyter-widgets/controls",
          "model_name": "HBoxModel",
          "state": {
            "_view_name": "HBoxView",
            "_dom_classes": [],
            "_model_name": "HBoxModel",
            "_view_module": "@jupyter-widgets/controls",
            "_model_module_version": "1.5.0",
            "_view_count": null,
            "_view_module_version": "1.5.0",
            "box_style": "",
            "layout": "IPY_MODEL_f98f5d57bbeb4469b17c50d2b71df0bd",
            "_model_module": "@jupyter-widgets/controls",
            "children": [
              "IPY_MODEL_98f37ddaa2a6478e805f074cb2b0c995",
              "IPY_MODEL_0dd5df05abbe404499fd5d072d4c74d7",
              "IPY_MODEL_c512500b01b34f6fbf79dda19afea9fe"
            ]
          }
        },
        "f98f5d57bbeb4469b17c50d2b71df0bd": {
          "model_module": "@jupyter-widgets/base",
          "model_name": "LayoutModel",
          "state": {
            "_view_name": "LayoutView",
            "grid_template_rows": null,
            "right": null,
            "justify_content": null,
            "_view_module": "@jupyter-widgets/base",
            "overflow": null,
            "_model_module_version": "1.2.0",
            "_view_count": null,
            "flex_flow": null,
            "width": null,
            "min_width": null,
            "border": null,
            "align_items": null,
            "bottom": null,
            "_model_module": "@jupyter-widgets/base",
            "top": null,
            "grid_column": null,
            "overflow_y": null,
            "overflow_x": null,
            "grid_auto_flow": null,
            "grid_area": null,
            "grid_template_columns": null,
            "flex": null,
            "_model_name": "LayoutModel",
            "justify_items": null,
            "grid_row": null,
            "max_height": null,
            "align_content": null,
            "visibility": null,
            "align_self": null,
            "height": null,
            "min_height": null,
            "padding": null,
            "grid_auto_rows": null,
            "grid_gap": null,
            "max_width": null,
            "order": null,
            "_view_module_version": "1.2.0",
            "grid_template_areas": null,
            "object_position": null,
            "object_fit": null,
            "grid_auto_columns": null,
            "margin": null,
            "display": null,
            "left": null
          }
        },
        "98f37ddaa2a6478e805f074cb2b0c995": {
          "model_module": "@jupyter-widgets/controls",
          "model_name": "HTMLModel",
          "state": {
            "_view_name": "HTMLView",
            "style": "IPY_MODEL_337b20be920b4977b952398b7e70aeee",
            "_dom_classes": [],
            "description": "",
            "_model_name": "HTMLModel",
            "placeholder": "​",
            "_view_module": "@jupyter-widgets/controls",
            "_model_module_version": "1.5.0",
            "value": "vaswani documents: 100%",
            "_view_count": null,
            "_view_module_version": "1.5.0",
            "description_tooltip": null,
            "_model_module": "@jupyter-widgets/controls",
            "layout": "IPY_MODEL_a52e894d64a040d3a8663f9bf74b9ced"
          }
        },
        "0dd5df05abbe404499fd5d072d4c74d7": {
          "model_module": "@jupyter-widgets/controls",
          "model_name": "FloatProgressModel",
          "state": {
            "_view_name": "ProgressView",
            "style": "IPY_MODEL_b80f093c245948fd803dffa91f3a733b",
            "_dom_classes": [],
            "description": "",
            "_model_name": "FloatProgressModel",
            "bar_style": "success",
            "max": 11429,
            "_view_module": "@jupyter-widgets/controls",
            "_model_module_version": "1.5.0",
            "value": 11429,
            "_view_count": null,
            "_view_module_version": "1.5.0",
            "orientation": "horizontal",
            "min": 0,
            "description_tooltip": null,
            "_model_module": "@jupyter-widgets/controls",
            "layout": "IPY_MODEL_8563db7b78e34c94b21dfd04766307ad"
          }
        },
        "c512500b01b34f6fbf79dda19afea9fe": {
          "model_module": "@jupyter-widgets/controls",
          "model_name": "HTMLModel",
          "state": {
            "_view_name": "HTMLView",
            "style": "IPY_MODEL_d8476a3876014eda80099615d3c39587",
            "_dom_classes": [],
            "description": "",
            "_model_name": "HTMLModel",
            "placeholder": "​",
            "_view_module": "@jupyter-widgets/controls",
            "_model_module_version": "1.5.0",
            "value": " 11429/11429 [09:58&lt;00:00, 18.92it/s]",
            "_view_count": null,
            "_view_module_version": "1.5.0",
            "description_tooltip": null,
            "_model_module": "@jupyter-widgets/controls",
            "layout": "IPY_MODEL_99d5088f28ac41f3ac73eff6639af65b"
          }
        },
        "337b20be920b4977b952398b7e70aeee": {
          "model_module": "@jupyter-widgets/controls",
          "model_name": "DescriptionStyleModel",
          "state": {
            "_view_name": "StyleView",
            "_model_name": "DescriptionStyleModel",
            "description_width": "",
            "_view_module": "@jupyter-widgets/base",
            "_model_module_version": "1.5.0",
            "_view_count": null,
            "_view_module_version": "1.2.0",
            "_model_module": "@jupyter-widgets/controls"
          }
        },
        "a52e894d64a040d3a8663f9bf74b9ced": {
          "model_module": "@jupyter-widgets/base",
          "model_name": "LayoutModel",
          "state": {
            "_view_name": "LayoutView",
            "grid_template_rows": null,
            "right": null,
            "justify_content": null,
            "_view_module": "@jupyter-widgets/base",
            "overflow": null,
            "_model_module_version": "1.2.0",
            "_view_count": null,
            "flex_flow": null,
            "width": null,
            "min_width": null,
            "border": null,
            "align_items": null,
            "bottom": null,
            "_model_module": "@jupyter-widgets/base",
            "top": null,
            "grid_column": null,
            "overflow_y": null,
            "overflow_x": null,
            "grid_auto_flow": null,
            "grid_area": null,
            "grid_template_columns": null,
            "flex": null,
            "_model_name": "LayoutModel",
            "justify_items": null,
            "grid_row": null,
            "max_height": null,
            "align_content": null,
            "visibility": null,
            "align_self": null,
            "height": null,
            "min_height": null,
            "padding": null,
            "grid_auto_rows": null,
            "grid_gap": null,
            "max_width": null,
            "order": null,
            "_view_module_version": "1.2.0",
            "grid_template_areas": null,
            "object_position": null,
            "object_fit": null,
            "grid_auto_columns": null,
            "margin": null,
            "display": null,
            "left": null
          }
        },
        "b80f093c245948fd803dffa91f3a733b": {
          "model_module": "@jupyter-widgets/controls",
          "model_name": "ProgressStyleModel",
          "state": {
            "_view_name": "StyleView",
            "_model_name": "ProgressStyleModel",
            "description_width": "",
            "_view_module": "@jupyter-widgets/base",
            "_model_module_version": "1.5.0",
            "_view_count": null,
            "_view_module_version": "1.2.0",
            "bar_color": null,
            "_model_module": "@jupyter-widgets/controls"
          }
        },
        "8563db7b78e34c94b21dfd04766307ad": {
          "model_module": "@jupyter-widgets/base",
          "model_name": "LayoutModel",
          "state": {
            "_view_name": "LayoutView",
            "grid_template_rows": null,
            "right": null,
            "justify_content": null,
            "_view_module": "@jupyter-widgets/base",
            "overflow": null,
            "_model_module_version": "1.2.0",
            "_view_count": null,
            "flex_flow": null,
            "width": null,
            "min_width": null,
            "border": null,
            "align_items": null,
            "bottom": null,
            "_model_module": "@jupyter-widgets/base",
            "top": null,
            "grid_column": null,
            "overflow_y": null,
            "overflow_x": null,
            "grid_auto_flow": null,
            "grid_area": null,
            "grid_template_columns": null,
            "flex": null,
            "_model_name": "LayoutModel",
            "justify_items": null,
            "grid_row": null,
            "max_height": null,
            "align_content": null,
            "visibility": null,
            "align_self": null,
            "height": null,
            "min_height": null,
            "padding": null,
            "grid_auto_rows": null,
            "grid_gap": null,
            "max_width": null,
            "order": null,
            "_view_module_version": "1.2.0",
            "grid_template_areas": null,
            "object_position": null,
            "object_fit": null,
            "grid_auto_columns": null,
            "margin": null,
            "display": null,
            "left": null
          }
        },
        "d8476a3876014eda80099615d3c39587": {
          "model_module": "@jupyter-widgets/controls",
          "model_name": "DescriptionStyleModel",
          "state": {
            "_view_name": "StyleView",
            "_model_name": "DescriptionStyleModel",
            "description_width": "",
            "_view_module": "@jupyter-widgets/base",
            "_model_module_version": "1.5.0",
            "_view_count": null,
            "_view_module_version": "1.2.0",
            "_model_module": "@jupyter-widgets/controls"
          }
        },
        "99d5088f28ac41f3ac73eff6639af65b": {
          "model_module": "@jupyter-widgets/base",
          "model_name": "LayoutModel",
          "state": {
            "_view_name": "LayoutView",
            "grid_template_rows": null,
            "right": null,
            "justify_content": null,
            "_view_module": "@jupyter-widgets/base",
            "overflow": null,
            "_model_module_version": "1.2.0",
            "_view_count": null,
            "flex_flow": null,
            "width": null,
            "min_width": null,
            "border": null,
            "align_items": null,
            "bottom": null,
            "_model_module": "@jupyter-widgets/base",
            "top": null,
            "grid_column": null,
            "overflow_y": null,
            "overflow_x": null,
            "grid_auto_flow": null,
            "grid_area": null,
            "grid_template_columns": null,
            "flex": null,
            "_model_name": "LayoutModel",
            "justify_items": null,
            "grid_row": null,
            "max_height": null,
            "align_content": null,
            "visibility": null,
            "align_self": null,
            "height": null,
            "min_height": null,
            "padding": null,
            "grid_auto_rows": null,
            "grid_gap": null,
            "max_width": null,
            "order": null,
            "_view_module_version": "1.2.0",
            "grid_template_areas": null,
            "object_position": null,
            "object_fit": null,
            "grid_auto_columns": null,
            "margin": null,
            "display": null,
            "left": null
          }
        }
      }
    }
  },
  "cells": [
    {
      "cell_type": "code",
      "metadata": {
        "colab": {
          "base_uri": "https://localhost:8080/"
        },
        "id": "OayII8k6Yy0L",
        "outputId": "a8d83361-772b-4d27-9c50-f298aa3fc0f8"
      },
      "source": [
        "%tensorflow_version 1.x\n",
        "\n",
        "!pip install --upgrade git+https://github.com/terrier-org/pyterrier.git#egg=python-terrier\n",
        "!pip install --upgrade git+https://github.com/terrierteam/pyterrier_deepct.git\n"
      ],
      "execution_count": 1,
      "outputs": [
        {
          "output_type": "stream",
          "text": [
            "TensorFlow 1.x selected.\n",
            "Collecting python-terrier\n",
            "  Cloning https://github.com/terrier-org/pyterrier.git to /tmp/pip-install-ecb2i1mk/python-terrier\n",
            "  Running command git clone -q https://github.com/terrier-org/pyterrier.git /tmp/pip-install-ecb2i1mk/python-terrier\n",
            "Requirement already satisfied, skipping upgrade: numpy in /usr/local/lib/python3.7/dist-packages (from python-terrier) (1.19.5)\n",
            "Requirement already satisfied, skipping upgrade: pandas in /usr/local/lib/python3.7/dist-packages (from python-terrier) (1.1.5)\n",
            "Collecting wget\n",
            "  Downloading https://files.pythonhosted.org/packages/47/6a/62e288da7bcda82b935ff0c6cfe542970f04e29c756b0e147251b2fb251f/wget-3.2.zip\n",
            "Collecting pytrec_eval>=0.5\n",
            "  Downloading https://files.pythonhosted.org/packages/2e/03/e6e84df6a7c1265579ab26bbe30ff7f8c22745aa77e0799bba471c0a3a19/pytrec_eval-0.5.tar.gz\n",
            "Collecting tqdm>=4.57.0\n",
            "\u001b[?25l  Downloading https://files.pythonhosted.org/packages/f8/3e/2730d0effc282960dbff3cf91599ad0d8f3faedc8e75720fdf224b31ab24/tqdm-4.59.0-py2.py3-none-any.whl (74kB)\n",
            "\u001b[K     |████████████████████████████████| 81kB 5.2MB/s \n",
            "\u001b[?25hCollecting pyjnius~=1.3.0\n",
            "\u001b[?25l  Downloading https://files.pythonhosted.org/packages/ea/b1/e33db12a20efe28b20fbcf4efc9b95a934954587cd7aa5998987a22e8885/pyjnius-1.3.0-cp37-cp37m-manylinux2010_x86_64.whl (1.1MB)\n",
            "\u001b[K     |████████████████████████████████| 1.1MB 9.8MB/s \n",
            "\u001b[?25hCollecting matchpy\n",
            "\u001b[?25l  Downloading https://files.pythonhosted.org/packages/2a/25/6b8fa5846476c2d56856a4926fda859b218656b14571ace76fbcd1d39986/matchpy-0.5.4-py3-none-any.whl (69kB)\n",
            "\u001b[K     |████████████████████████████████| 71kB 10.2MB/s \n",
            "\u001b[?25hRequirement already satisfied, skipping upgrade: sklearn in /usr/local/lib/python3.7/dist-packages (from python-terrier) (0.0)\n",
            "Collecting deprecation\n",
            "  Downloading https://files.pythonhosted.org/packages/02/c3/253a89ee03fc9b9682f1541728eb66db7db22148cd94f89ab22528cd1e1b/deprecation-2.1.0-py2.py3-none-any.whl\n",
            "Collecting chest\n",
            "  Downloading https://files.pythonhosted.org/packages/18/66/b883b9a26cd2f777dd04b7eedc842d31ea1567b7709b049d46eca418501e/chest-0.2.3.tar.gz\n",
            "Requirement already satisfied, skipping upgrade: scipy in /usr/local/lib/python3.7/dist-packages (from python-terrier) (1.4.1)\n",
            "Requirement already satisfied, skipping upgrade: requests in /usr/local/lib/python3.7/dist-packages (from python-terrier) (2.23.0)\n",
            "Collecting nptyping\n",
            "  Downloading https://files.pythonhosted.org/packages/f1/1e/1af177efdf368b65831ea999e0a68f5320f8009f28dbc1a46db091ffdb24/nptyping-1.4.0-py3-none-any.whl\n",
            "Requirement already satisfied, skipping upgrade: more_itertools in /usr/local/lib/python3.7/dist-packages (from python-terrier) (8.7.0)\n",
            "Collecting ir_datasets>=0.2.0\n",
            "\u001b[?25l  Downloading https://files.pythonhosted.org/packages/f1/3a/6a5227baca7840943cdb2848b52d4c7696d958f9603e3d3e0578d3733bf9/ir_datasets-0.3.3-py3-none-any.whl (163kB)\n",
            "\u001b[K     |████████████████████████████████| 163kB 20.9MB/s \n",
            "\u001b[?25hRequirement already satisfied, skipping upgrade: jinja2 in /usr/local/lib/python3.7/dist-packages (from python-terrier) (2.11.3)\n",
            "Requirement already satisfied, skipping upgrade: pytz>=2017.2 in /usr/local/lib/python3.7/dist-packages (from pandas->python-terrier) (2018.9)\n",
            "Requirement already satisfied, skipping upgrade: python-dateutil>=2.7.3 in /usr/local/lib/python3.7/dist-packages (from pandas->python-terrier) (2.8.1)\n",
            "Requirement already satisfied, skipping upgrade: cython in /usr/local/lib/python3.7/dist-packages (from pyjnius~=1.3.0->python-terrier) (0.29.22)\n",
            "Requirement already satisfied, skipping upgrade: six>=1.7.0 in /usr/local/lib/python3.7/dist-packages (from pyjnius~=1.3.0->python-terrier) (1.15.0)\n",
            "Collecting multiset<3.0,>=2.0\n",
            "  Downloading https://files.pythonhosted.org/packages/a8/12/813a649f5bc9801865dc6cda95b8f169f784d996322db192907ebe399064/multiset-2.1.1-py2.py3-none-any.whl\n",
            "Requirement already satisfied, skipping upgrade: scikit-learn in /usr/local/lib/python3.7/dist-packages (from sklearn->python-terrier) (0.22.2.post1)\n",
            "Requirement already satisfied, skipping upgrade: packaging in /usr/local/lib/python3.7/dist-packages (from deprecation->python-terrier) (20.9)\n",
            "Requirement already satisfied, skipping upgrade: heapdict in /usr/local/lib/python3.7/dist-packages (from chest->python-terrier) (1.0.1)\n",
            "Requirement already satisfied, skipping upgrade: idna<3,>=2.5 in /usr/local/lib/python3.7/dist-packages (from requests->python-terrier) (2.10)\n",
            "Requirement already satisfied, skipping upgrade: certifi>=2017.4.17 in /usr/local/lib/python3.7/dist-packages (from requests->python-terrier) (2020.12.5)\n",
            "Requirement already satisfied, skipping upgrade: urllib3!=1.25.0,!=1.25.1,<1.26,>=1.21.1 in /usr/local/lib/python3.7/dist-packages (from requests->python-terrier) (1.24.3)\n",
            "Requirement already satisfied, skipping upgrade: chardet<4,>=3.0.2 in /usr/local/lib/python3.7/dist-packages (from requests->python-terrier) (3.0.4)\n",
            "Collecting typish>=1.7.0\n",
            "\u001b[?25l  Downloading https://files.pythonhosted.org/packages/48/10/84e80246203f017fd27559b49557753d96cee860754247b7b023fd03d236/typish-1.9.1-py3-none-any.whl (44kB)\n",
            "\u001b[K     |████████████████████████████████| 51kB 7.6MB/s \n",
            "\u001b[?25hCollecting zlib-state>=0.1.3\n",
            "\u001b[?25l  Downloading https://files.pythonhosted.org/packages/69/05/95df36be761a5ff85a39b438d87937f02762c19fea95c0f10b679a259f14/zlib_state-0.1.3-cp37-cp37m-manylinux2010_x86_64.whl (72kB)\n",
            "\u001b[K     |████████████████████████████████| 81kB 8.3MB/s \n",
            "\u001b[?25hRequirement already satisfied, skipping upgrade: beautifulsoup4>=4.4.1 in /usr/local/lib/python3.7/dist-packages (from ir_datasets>=0.2.0->python-terrier) (4.6.3)\n",
            "Collecting trec-car-tools>=2.5.4\n",
            "  Downloading https://files.pythonhosted.org/packages/d1/e2/da4e895e5ad519f9f6aa464530dd482c7132c92a55cf178b8132e84b5c1d/trec_car_tools-2.5.4-py3-none-any.whl\n",
            "Collecting lz4>=3.1.1\n",
            "\u001b[?25l  Downloading https://files.pythonhosted.org/packages/e3/52/151c815a486290608e4dc6699a0cfd74141dc5191f8fe928e7d1b28b569e/lz4-3.1.3-cp37-cp37m-manylinux2010_x86_64.whl (1.8MB)\n",
            "\u001b[K     |████████████████████████████████| 1.8MB 22.5MB/s \n",
            "\u001b[?25hCollecting warc3-wet>=0.2.3\n",
            "  Downloading https://files.pythonhosted.org/packages/78/de/017a6bc2e3ba1ad912a08501f58414dd9e8503da1d6239aad548631777ad/warc3_wet-0.2.3-py3-none-any.whl\n",
            "Collecting lxml>=4.5.2\n",
            "\u001b[?25l  Downloading https://files.pythonhosted.org/packages/d2/88/b25778f17e5320c1c58f8c5060fb5b037288e162bd7554c30799e9ea90db/lxml-4.6.2-cp37-cp37m-manylinux1_x86_64.whl (5.5MB)\n",
            "\u001b[K     |████████████████████████████████| 5.5MB 45.9MB/s \n",
            "\u001b[?25hCollecting ijson>=3.1.3\n",
            "\u001b[?25l  Downloading https://files.pythonhosted.org/packages/b3/0c/e3b7bf52e23345d5f9a6a3ff6de0cad419c96491893ab60cbbe9161644a8/ijson-3.1.4-cp37-cp37m-manylinux2010_x86_64.whl (126kB)\n",
            "\u001b[K     |████████████████████████████████| 133kB 49.9MB/s \n",
            "\u001b[?25hCollecting pyyaml>=5.3.1\n",
            "\u001b[?25l  Downloading https://files.pythonhosted.org/packages/7a/a5/393c087efdc78091afa2af9f1378762f9821c9c1d7a22c5753fb5ac5f97a/PyYAML-5.4.1-cp37-cp37m-manylinux1_x86_64.whl (636kB)\n",
            "\u001b[K     |████████████████████████████████| 645kB 56.3MB/s \n",
            "\u001b[?25hCollecting warc3-wet-clueweb09>=0.2.5\n",
            "  Downloading https://files.pythonhosted.org/packages/9f/c1/dd817bf57e0274dacb10e0ac868cb6cd70876950cf361c41879c030a2b8b/warc3-wet-clueweb09-0.2.5.tar.gz\n",
            "Requirement already satisfied, skipping upgrade: MarkupSafe>=0.23 in /usr/local/lib/python3.7/dist-packages (from jinja2->python-terrier) (1.1.1)\n",
            "Requirement already satisfied, skipping upgrade: joblib>=0.11 in /usr/local/lib/python3.7/dist-packages (from scikit-learn->sklearn->python-terrier) (1.0.1)\n",
            "Requirement already satisfied, skipping upgrade: pyparsing>=2.0.2 in /usr/local/lib/python3.7/dist-packages (from packaging->deprecation->python-terrier) (2.4.7)\n",
            "Collecting cbor>=1.0.0\n",
            "  Downloading https://files.pythonhosted.org/packages/9b/99/01c6a987c920500189eb74a291bd3a388e6c7cf85736bb6b066d9833315e/cbor-1.0.0.tar.gz\n",
            "Building wheels for collected packages: python-terrier, wget, pytrec-eval, chest, warc3-wet-clueweb09, cbor\n",
            "  Building wheel for python-terrier (setup.py) ... \u001b[?25l\u001b[?25hdone\n",
            "  Created wheel for python-terrier: filename=python_terrier-0.4.0-cp37-none-any.whl size=78539 sha256=a74eada0689f8b28e4354c3a5bbac7f959cdd143826ba633e17ff638386fce98\n",
            "  Stored in directory: /tmp/pip-ephem-wheel-cache-j5y7iu7t/wheels/cc/bb/69/836d846a92c787b35ca6478119c0033762ab2b95d866eeb288\n",
            "  Building wheel for wget (setup.py) ... \u001b[?25l\u001b[?25hdone\n",
            "  Created wheel for wget: filename=wget-3.2-cp37-none-any.whl size=9681 sha256=506d01f3c6a636bc395018b053d87dd950c7fb97b04ef24de8aea2e3cf3e32f0\n",
            "  Stored in directory: /root/.cache/pip/wheels/40/15/30/7d8f7cea2902b4db79e3fea550d7d7b85ecb27ef992b618f3f\n",
            "  Building wheel for pytrec-eval (setup.py) ... \u001b[?25l\u001b[?25hdone\n",
            "  Created wheel for pytrec-eval: filename=pytrec_eval-0.5-cp37-cp37m-linux_x86_64.whl size=264832 sha256=d5a0bf00248ada177abe5e9714c44ac71fff351ddf692127b1cc59d2bb19c327\n",
            "  Stored in directory: /root/.cache/pip/wheels/55/66/40/1779aa0a8eb66e088669befe286f695cdfe420ba91ce662127\n",
            "  Building wheel for chest (setup.py) ... \u001b[?25l\u001b[?25hdone\n",
            "  Created wheel for chest: filename=chest-0.2.3-cp37-none-any.whl size=7623 sha256=739cdf8eb55a54cafab04ad17fded8e124b792af52ef7be79da958e2c5a94b26\n",
            "  Stored in directory: /root/.cache/pip/wheels/f9/52/97/3f0eb272609dc1b7a20fb678a45003301b51f03cf766f6237f\n",
            "  Building wheel for warc3-wet-clueweb09 (setup.py) ... \u001b[?25l\u001b[?25hdone\n",
            "  Created wheel for warc3-wet-clueweb09: filename=warc3_wet_clueweb09-0.2.5-cp37-none-any.whl size=18909 sha256=98010be2a3958f9a164222c4678f4af1b847445057c919c14bb0d0be963ae544\n",
            "  Stored in directory: /root/.cache/pip/wheels/09/da/a9/ec9816edf7f789eab3fea2e57abe37bf7d6ab65f8ef8ee7f31\n",
            "  Building wheel for cbor (setup.py) ... \u001b[?25l\u001b[?25hdone\n",
            "  Created wheel for cbor: filename=cbor-1.0.0-cp37-cp37m-linux_x86_64.whl size=51255 sha256=175a6fd145eb43ae12be141286cc32e495abecb01d435aa8f7163cd31415e2b8\n",
            "  Stored in directory: /root/.cache/pip/wheels/40/5c/a5/e6d629446a6a687ba328c55f1589234c29b99ef35b1a65dbaa\n",
            "Successfully built python-terrier wget pytrec-eval chest warc3-wet-clueweb09 cbor\n",
            "Installing collected packages: wget, pytrec-eval, tqdm, pyjnius, multiset, matchpy, deprecation, chest, typish, nptyping, zlib-state, cbor, trec-car-tools, lz4, warc3-wet, lxml, ijson, pyyaml, warc3-wet-clueweb09, ir-datasets, python-terrier\n",
            "  Found existing installation: tqdm 4.41.1\n",
            "    Uninstalling tqdm-4.41.1:\n",
            "      Successfully uninstalled tqdm-4.41.1\n",
            "  Found existing installation: lxml 4.2.6\n",
            "    Uninstalling lxml-4.2.6:\n",
            "      Successfully uninstalled lxml-4.2.6\n",
            "  Found existing installation: PyYAML 3.13\n",
            "    Uninstalling PyYAML-3.13:\n",
            "      Successfully uninstalled PyYAML-3.13\n",
            "Successfully installed cbor-1.0.0 chest-0.2.3 deprecation-2.1.0 ijson-3.1.4 ir-datasets-0.3.3 lxml-4.6.2 lz4-3.1.3 matchpy-0.5.4 multiset-2.1.1 nptyping-1.4.0 pyjnius-1.3.0 python-terrier-0.4.0 pytrec-eval-0.5 pyyaml-5.4.1 tqdm-4.59.0 trec-car-tools-2.5.4 typish-1.9.1 warc3-wet-0.2.3 warc3-wet-clueweb09-0.2.5 wget-3.2 zlib-state-0.1.3\n",
            "Collecting git+https://github.com/terrierteam/pyterrier_deepct.git\n",
            "  Cloning https://github.com/terrierteam/pyterrier_deepct.git to /tmp/pip-req-build-5s2btn7e\n",
            "  Running command git clone -q https://github.com/terrierteam/pyterrier_deepct.git /tmp/pip-req-build-5s2btn7e\n",
            "Requirement already satisfied, skipping upgrade: python-terrier in /usr/local/lib/python3.7/dist-packages (from pyterrier-deepct==0.0.1) (0.4.0)\n",
            "Requirement already satisfied, skipping upgrade: pandas in /usr/local/lib/python3.7/dist-packages (from pyterrier-deepct==0.0.1) (1.1.5)\n",
            "Collecting DeepCT@ git+https://github.com/cmacdonald/DeepCT.git@tf1#egg=DeepCT\n",
            "  Cloning https://github.com/cmacdonald/DeepCT.git (to revision tf1) to /tmp/pip-install-zzvli4hr/DeepCT\n",
            "  Running command git clone -q https://github.com/cmacdonald/DeepCT.git /tmp/pip-install-zzvli4hr/DeepCT\n",
            "  Running command git checkout -b tf1 --track origin/tf1\n",
            "  Switched to a new branch 'tf1'\n",
            "  Branch 'tf1' set up to track remote branch 'tf1' from 'origin'.\n",
            "Requirement already satisfied, skipping upgrade: deprecation in /usr/local/lib/python3.7/dist-packages (from python-terrier->pyterrier-deepct==0.0.1) (2.1.0)\n",
            "Requirement already satisfied, skipping upgrade: wget in /usr/local/lib/python3.7/dist-packages (from python-terrier->pyterrier-deepct==0.0.1) (3.2)\n",
            "Requirement already satisfied, skipping upgrade: nptyping in /usr/local/lib/python3.7/dist-packages (from python-terrier->pyterrier-deepct==0.0.1) (1.4.0)\n",
            "Requirement already satisfied, skipping upgrade: chest in /usr/local/lib/python3.7/dist-packages (from python-terrier->pyterrier-deepct==0.0.1) (0.2.3)\n",
            "Requirement already satisfied, skipping upgrade: requests in /usr/local/lib/python3.7/dist-packages (from python-terrier->pyterrier-deepct==0.0.1) (2.23.0)\n",
            "Requirement already satisfied, skipping upgrade: ir-datasets>=0.2.0 in /usr/local/lib/python3.7/dist-packages (from python-terrier->pyterrier-deepct==0.0.1) (0.3.3)\n",
            "Requirement already satisfied, skipping upgrade: sklearn in /usr/local/lib/python3.7/dist-packages (from python-terrier->pyterrier-deepct==0.0.1) (0.0)\n",
            "Requirement already satisfied, skipping upgrade: scipy in /usr/local/lib/python3.7/dist-packages (from python-terrier->pyterrier-deepct==0.0.1) (1.4.1)\n",
            "Requirement already satisfied, skipping upgrade: numpy in /usr/local/lib/python3.7/dist-packages (from python-terrier->pyterrier-deepct==0.0.1) (1.19.5)\n",
            "Requirement already satisfied, skipping upgrade: tqdm>=4.57.0 in /usr/local/lib/python3.7/dist-packages (from python-terrier->pyterrier-deepct==0.0.1) (4.59.0)\n",
            "Requirement already satisfied, skipping upgrade: jinja2 in /usr/local/lib/python3.7/dist-packages (from python-terrier->pyterrier-deepct==0.0.1) (2.11.3)\n",
            "Requirement already satisfied, skipping upgrade: pytrec-eval>=0.5 in /usr/local/lib/python3.7/dist-packages (from python-terrier->pyterrier-deepct==0.0.1) (0.5)\n",
            "Requirement already satisfied, skipping upgrade: more-itertools in /usr/local/lib/python3.7/dist-packages (from python-terrier->pyterrier-deepct==0.0.1) (8.7.0)\n",
            "Requirement already satisfied, skipping upgrade: pyjnius~=1.3.0 in /usr/local/lib/python3.7/dist-packages (from python-terrier->pyterrier-deepct==0.0.1) (1.3.0)\n",
            "Requirement already satisfied, skipping upgrade: matchpy in /usr/local/lib/python3.7/dist-packages (from python-terrier->pyterrier-deepct==0.0.1) (0.5.4)\n",
            "Requirement already satisfied, skipping upgrade: pytz>=2017.2 in /usr/local/lib/python3.7/dist-packages (from pandas->pyterrier-deepct==0.0.1) (2018.9)\n",
            "Requirement already satisfied, skipping upgrade: python-dateutil>=2.7.3 in /usr/local/lib/python3.7/dist-packages (from pandas->pyterrier-deepct==0.0.1) (2.8.1)\n",
            "Requirement already satisfied, skipping upgrade: tensorflow in /tensorflow-1.15.2/python3.7 (from DeepCT@ git+https://github.com/cmacdonald/DeepCT.git@tf1#egg=DeepCT->pyterrier-deepct==0.0.1) (1.15.2)\n",
            "Requirement already satisfied, skipping upgrade: packaging in /usr/local/lib/python3.7/dist-packages (from deprecation->python-terrier->pyterrier-deepct==0.0.1) (20.9)\n",
            "Requirement already satisfied, skipping upgrade: typish>=1.7.0 in /usr/local/lib/python3.7/dist-packages (from nptyping->python-terrier->pyterrier-deepct==0.0.1) (1.9.1)\n",
            "Requirement already satisfied, skipping upgrade: heapdict in /usr/local/lib/python3.7/dist-packages (from chest->python-terrier->pyterrier-deepct==0.0.1) (1.0.1)\n",
            "Requirement already satisfied, skipping upgrade: idna<3,>=2.5 in /usr/local/lib/python3.7/dist-packages (from requests->python-terrier->pyterrier-deepct==0.0.1) (2.10)\n",
            "Requirement already satisfied, skipping upgrade: chardet<4,>=3.0.2 in /usr/local/lib/python3.7/dist-packages (from requests->python-terrier->pyterrier-deepct==0.0.1) (3.0.4)\n",
            "Requirement already satisfied, skipping upgrade: urllib3!=1.25.0,!=1.25.1,<1.26,>=1.21.1 in /usr/local/lib/python3.7/dist-packages (from requests->python-terrier->pyterrier-deepct==0.0.1) (1.24.3)\n",
            "Requirement already satisfied, skipping upgrade: certifi>=2017.4.17 in /usr/local/lib/python3.7/dist-packages (from requests->python-terrier->pyterrier-deepct==0.0.1) (2020.12.5)\n",
            "Requirement already satisfied, skipping upgrade: lxml>=4.5.2 in /usr/local/lib/python3.7/dist-packages (from ir-datasets>=0.2.0->python-terrier->pyterrier-deepct==0.0.1) (4.6.2)\n",
            "Requirement already satisfied, skipping upgrade: warc3-wet>=0.2.3 in /usr/local/lib/python3.7/dist-packages (from ir-datasets>=0.2.0->python-terrier->pyterrier-deepct==0.0.1) (0.2.3)\n",
            "Requirement already satisfied, skipping upgrade: pyyaml>=5.3.1 in /usr/local/lib/python3.7/dist-packages (from ir-datasets>=0.2.0->python-terrier->pyterrier-deepct==0.0.1) (5.4.1)\n",
            "Requirement already satisfied, skipping upgrade: zlib-state>=0.1.3 in /usr/local/lib/python3.7/dist-packages (from ir-datasets>=0.2.0->python-terrier->pyterrier-deepct==0.0.1) (0.1.3)\n",
            "Requirement already satisfied, skipping upgrade: trec-car-tools>=2.5.4 in /usr/local/lib/python3.7/dist-packages (from ir-datasets>=0.2.0->python-terrier->pyterrier-deepct==0.0.1) (2.5.4)\n",
            "Requirement already satisfied, skipping upgrade: lz4>=3.1.1 in /usr/local/lib/python3.7/dist-packages (from ir-datasets>=0.2.0->python-terrier->pyterrier-deepct==0.0.1) (3.1.3)\n",
            "Requirement already satisfied, skipping upgrade: ijson>=3.1.3 in /usr/local/lib/python3.7/dist-packages (from ir-datasets>=0.2.0->python-terrier->pyterrier-deepct==0.0.1) (3.1.4)\n",
            "Requirement already satisfied, skipping upgrade: beautifulsoup4>=4.4.1 in /usr/local/lib/python3.7/dist-packages (from ir-datasets>=0.2.0->python-terrier->pyterrier-deepct==0.0.1) (4.6.3)\n",
            "Requirement already satisfied, skipping upgrade: warc3-wet-clueweb09>=0.2.5 in /usr/local/lib/python3.7/dist-packages (from ir-datasets>=0.2.0->python-terrier->pyterrier-deepct==0.0.1) (0.2.5)\n",
            "Requirement already satisfied, skipping upgrade: scikit-learn in /usr/local/lib/python3.7/dist-packages (from sklearn->python-terrier->pyterrier-deepct==0.0.1) (0.22.2.post1)\n",
            "Requirement already satisfied, skipping upgrade: MarkupSafe>=0.23 in /usr/local/lib/python3.7/dist-packages (from jinja2->python-terrier->pyterrier-deepct==0.0.1) (1.1.1)\n",
            "Requirement already satisfied, skipping upgrade: cython in /usr/local/lib/python3.7/dist-packages (from pyjnius~=1.3.0->python-terrier->pyterrier-deepct==0.0.1) (0.29.22)\n",
            "Requirement already satisfied, skipping upgrade: six>=1.7.0 in /usr/local/lib/python3.7/dist-packages (from pyjnius~=1.3.0->python-terrier->pyterrier-deepct==0.0.1) (1.15.0)\n",
            "Requirement already satisfied, skipping upgrade: multiset<3.0,>=2.0 in /usr/local/lib/python3.7/dist-packages (from matchpy->python-terrier->pyterrier-deepct==0.0.1) (2.1.1)\n",
            "Collecting gast==0.2.2\n",
            "  Downloading https://files.pythonhosted.org/packages/4e/35/11749bf99b2d4e3cceb4d55ca22590b0d7c2c62b9de38ac4a4a7f4687421/gast-0.2.2.tar.gz\n",
            "Requirement already satisfied, skipping upgrade: google-pasta>=0.1.6 in /usr/local/lib/python3.7/dist-packages (from tensorflow->DeepCT@ git+https://github.com/cmacdonald/DeepCT.git@tf1#egg=DeepCT->pyterrier-deepct==0.0.1) (0.2.0)\n",
            "Requirement already satisfied, skipping upgrade: protobuf>=3.6.1 in /usr/local/lib/python3.7/dist-packages (from tensorflow->DeepCT@ git+https://github.com/cmacdonald/DeepCT.git@tf1#egg=DeepCT->pyterrier-deepct==0.0.1) (3.12.4)\n",
            "Requirement already satisfied, skipping upgrade: keras-preprocessing>=1.0.5 in /usr/local/lib/python3.7/dist-packages (from tensorflow->DeepCT@ git+https://github.com/cmacdonald/DeepCT.git@tf1#egg=DeepCT->pyterrier-deepct==0.0.1) (1.1.2)\n",
            "Requirement already satisfied, skipping upgrade: tensorflow-estimator==1.15.1 in /tensorflow-1.15.2/python3.7 (from tensorflow->DeepCT@ git+https://github.com/cmacdonald/DeepCT.git@tf1#egg=DeepCT->pyterrier-deepct==0.0.1) (1.15.1)\n",
            "Requirement already satisfied, skipping upgrade: absl-py>=0.7.0 in /usr/local/lib/python3.7/dist-packages (from tensorflow->DeepCT@ git+https://github.com/cmacdonald/DeepCT.git@tf1#egg=DeepCT->pyterrier-deepct==0.0.1) (0.10.0)\n",
            "Requirement already satisfied, skipping upgrade: termcolor>=1.1.0 in /usr/local/lib/python3.7/dist-packages (from tensorflow->DeepCT@ git+https://github.com/cmacdonald/DeepCT.git@tf1#egg=DeepCT->pyterrier-deepct==0.0.1) (1.1.0)\n",
            "Requirement already satisfied, skipping upgrade: keras-applications>=1.0.8 in /tensorflow-1.15.2/python3.7 (from tensorflow->DeepCT@ git+https://github.com/cmacdonald/DeepCT.git@tf1#egg=DeepCT->pyterrier-deepct==0.0.1) (1.0.8)\n",
            "Requirement already satisfied, skipping upgrade: wrapt>=1.11.1 in /usr/local/lib/python3.7/dist-packages (from tensorflow->DeepCT@ git+https://github.com/cmacdonald/DeepCT.git@tf1#egg=DeepCT->pyterrier-deepct==0.0.1) (1.12.1)\n",
            "Requirement already satisfied, skipping upgrade: grpcio>=1.8.6 in /usr/local/lib/python3.7/dist-packages (from tensorflow->DeepCT@ git+https://github.com/cmacdonald/DeepCT.git@tf1#egg=DeepCT->pyterrier-deepct==0.0.1) (1.32.0)\n",
            "Requirement already satisfied, skipping upgrade: astor>=0.6.0 in /usr/local/lib/python3.7/dist-packages (from tensorflow->DeepCT@ git+https://github.com/cmacdonald/DeepCT.git@tf1#egg=DeepCT->pyterrier-deepct==0.0.1) (0.8.1)\n",
            "Requirement already satisfied, skipping upgrade: wheel>=0.26; python_version >= \"3\" in /usr/local/lib/python3.7/dist-packages (from tensorflow->DeepCT@ git+https://github.com/cmacdonald/DeepCT.git@tf1#egg=DeepCT->pyterrier-deepct==0.0.1) (0.36.2)\n",
            "Requirement already satisfied, skipping upgrade: tensorboard<1.16.0,>=1.15.0 in /tensorflow-1.15.2/python3.7 (from tensorflow->DeepCT@ git+https://github.com/cmacdonald/DeepCT.git@tf1#egg=DeepCT->pyterrier-deepct==0.0.1) (1.15.0)\n",
            "Requirement already satisfied, skipping upgrade: opt-einsum>=2.3.2 in /usr/local/lib/python3.7/dist-packages (from tensorflow->DeepCT@ git+https://github.com/cmacdonald/DeepCT.git@tf1#egg=DeepCT->pyterrier-deepct==0.0.1) (3.3.0)\n",
            "Requirement already satisfied, skipping upgrade: pyparsing>=2.0.2 in /usr/local/lib/python3.7/dist-packages (from packaging->deprecation->python-terrier->pyterrier-deepct==0.0.1) (2.4.7)\n",
            "Requirement already satisfied, skipping upgrade: cbor>=1.0.0 in /usr/local/lib/python3.7/dist-packages (from trec-car-tools>=2.5.4->ir-datasets>=0.2.0->python-terrier->pyterrier-deepct==0.0.1) (1.0.0)\n",
            "Requirement already satisfied, skipping upgrade: joblib>=0.11 in /usr/local/lib/python3.7/dist-packages (from scikit-learn->sklearn->python-terrier->pyterrier-deepct==0.0.1) (1.0.1)\n",
            "Requirement already satisfied, skipping upgrade: setuptools in /usr/local/lib/python3.7/dist-packages (from protobuf>=3.6.1->tensorflow->DeepCT@ git+https://github.com/cmacdonald/DeepCT.git@tf1#egg=DeepCT->pyterrier-deepct==0.0.1) (54.1.2)\n",
            "Requirement already satisfied, skipping upgrade: h5py in /usr/local/lib/python3.7/dist-packages (from keras-applications>=1.0.8->tensorflow->DeepCT@ git+https://github.com/cmacdonald/DeepCT.git@tf1#egg=DeepCT->pyterrier-deepct==0.0.1) (2.10.0)\n",
            "Requirement already satisfied, skipping upgrade: markdown>=2.6.8 in /usr/local/lib/python3.7/dist-packages (from tensorboard<1.16.0,>=1.15.0->tensorflow->DeepCT@ git+https://github.com/cmacdonald/DeepCT.git@tf1#egg=DeepCT->pyterrier-deepct==0.0.1) (3.3.4)\n",
            "Requirement already satisfied, skipping upgrade: werkzeug>=0.11.15 in /usr/local/lib/python3.7/dist-packages (from tensorboard<1.16.0,>=1.15.0->tensorflow->DeepCT@ git+https://github.com/cmacdonald/DeepCT.git@tf1#egg=DeepCT->pyterrier-deepct==0.0.1) (1.0.1)\n",
            "Requirement already satisfied, skipping upgrade: importlib-metadata; python_version < \"3.8\" in /usr/local/lib/python3.7/dist-packages (from markdown>=2.6.8->tensorboard<1.16.0,>=1.15.0->tensorflow->DeepCT@ git+https://github.com/cmacdonald/DeepCT.git@tf1#egg=DeepCT->pyterrier-deepct==0.0.1) (3.7.2)\n",
            "Requirement already satisfied, skipping upgrade: zipp>=0.5 in /usr/local/lib/python3.7/dist-packages (from importlib-metadata; python_version < \"3.8\"->markdown>=2.6.8->tensorboard<1.16.0,>=1.15.0->tensorflow->DeepCT@ git+https://github.com/cmacdonald/DeepCT.git@tf1#egg=DeepCT->pyterrier-deepct==0.0.1) (3.4.1)\n",
            "Requirement already satisfied, skipping upgrade: typing-extensions>=3.6.4; python_version < \"3.8\" in /usr/local/lib/python3.7/dist-packages (from importlib-metadata; python_version < \"3.8\"->markdown>=2.6.8->tensorboard<1.16.0,>=1.15.0->tensorflow->DeepCT@ git+https://github.com/cmacdonald/DeepCT.git@tf1#egg=DeepCT->pyterrier-deepct==0.0.1) (3.7.4.3)\n",
            "Building wheels for collected packages: pyterrier-deepct, DeepCT, gast\n",
            "  Building wheel for pyterrier-deepct (setup.py) ... \u001b[?25l\u001b[?25hdone\n",
            "  Created wheel for pyterrier-deepct: filename=pyterrier_deepct-0.0.1-cp37-none-any.whl size=2792 sha256=a707db4ca1238bf0ff7af759b21d518f9d55f7cf6abf09cc6276e6e67239174d\n",
            "  Stored in directory: /tmp/pip-ephem-wheel-cache-sl6rgtjo/wheels/30/92/f6/c3042987b4d44fa5efa8f3fae03e7d5d98b9b8d7548af3223d\n",
            "  Building wheel for DeepCT (setup.py) ... \u001b[?25l\u001b[?25hdone\n",
            "  Created wheel for DeepCT: filename=DeepCT-0.1.0-cp37-none-any.whl size=32067 sha256=36425abe95f8f53cacf56aa258a3fed81ece3d33a167c85a5c80867ae17c0bd9\n",
            "  Stored in directory: /tmp/pip-ephem-wheel-cache-sl6rgtjo/wheels/08/c0/97/adab6698b1b780a8a42ddb75f98e8a6c69a955381e843b13fc\n",
            "  Building wheel for gast (setup.py) ... \u001b[?25l\u001b[?25hdone\n",
            "  Created wheel for gast: filename=gast-0.2.2-cp37-none-any.whl size=7540 sha256=e5c37cd54c981635d68ffbbd27baa416ffa653fdc8bf567e66f191d230cefd80\n",
            "  Stored in directory: /root/.cache/pip/wheels/5c/2e/7e/a1d4d4fcebe6c381f378ce7743a3ced3699feb89bcfbdadadd\n",
            "Successfully built pyterrier-deepct DeepCT gast\n",
            "Installing collected packages: DeepCT, pyterrier-deepct, gast\n",
            "  Found existing installation: gast 0.3.3\n",
            "    Uninstalling gast-0.3.3:\n",
            "      Successfully uninstalled gast-0.3.3\n",
            "Successfully installed DeepCT-0.1.0 gast-0.2.2 pyterrier-deepct-0.0.1\n"
          ],
          "name": "stdout"
        }
      ]
    },
    {
      "cell_type": "code",
      "metadata": {
        "colab": {
          "base_uri": "https://localhost:8080/"
        },
        "id": "-Y3-_5u-ZIBa",
        "outputId": "4a40c399-509c-4f8b-8b72-c844f60c9dc1"
      },
      "source": [
        "import pyterrier as pt\n",
        "pt.init()\n",
        "\n",
        "import os\n",
        "os.environ['TF_CPP_MIN_LOG_LEVEL'] = '2' \n",
        "import tensorflow as tf\n",
        "assert tf.__version__.startswith(\"1\"), \"TF 1 is required by DeepCT; on Colab, use %tensorflow_version 1.x\"\n",
        "tf.logging.set_verbosity(tf.logging.ERROR)"
      ],
      "execution_count": 2,
      "outputs": [
        {
          "output_type": "stream",
          "text": [
            "terrier-assemblies 5.4  jar-with-dependencies not found, downloading to /root/.pyterrier...\n",
            "Done\n",
            "terrier-python-helper 0.0.5  jar not found, downloading to /root/.pyterrier...\n",
            "Done\n",
            "PyTerrier 0.4.0 has loaded Terrier 5.4 (built by craigm on 2021-01-16 14:17)\n"
          ],
          "name": "stdout"
        }
      ]
    },
    {
      "cell_type": "code",
      "metadata": {
        "id": "V9rDs6scZX2k"
      },
      "source": [
        "import pyterrier_deepct\n",
        "import os"
      ],
      "execution_count": 3,
      "outputs": []
    },
    {
      "cell_type": "code",
      "metadata": {
        "colab": {
          "base_uri": "https://localhost:8080/"
        },
        "id": "1xRx0YtqZZVT",
        "outputId": "1e0a5df8-a5cd-47be-caf9-387febc062dc"
      },
      "source": [
        "if not os.path.exists(\"marco.zip\"):\n",
        "  !wget http://boston.lti.cs.cmu.edu/appendices/arXiv2019-DeepCT-Zhuyun-Dai/outputs/marco.zip\n",
        "  !unzip marco.zip"
      ],
      "execution_count": 4,
      "outputs": [
        {
          "output_type": "stream",
          "text": [
            "--2021-03-19 22:57:07--  http://boston.lti.cs.cmu.edu/appendices/arXiv2019-DeepCT-Zhuyun-Dai/outputs/marco.zip\n",
            "Resolving boston.lti.cs.cmu.edu (boston.lti.cs.cmu.edu)... 128.2.207.139, 128.2.207.32\n",
            "Connecting to boston.lti.cs.cmu.edu (boston.lti.cs.cmu.edu)|128.2.207.139|:80... connected.\n",
            "HTTP request sent, awaiting response... 200 OK\n",
            "Length: 1237248594 (1.2G) [application/zip]\n",
            "Saving to: ‘marco.zip’\n",
            "\n",
            "marco.zip           100%[===================>]   1.15G  39.2MB/s    in 31s     \n",
            "\n",
            "2021-03-19 22:57:38 (38.6 MB/s) - ‘marco.zip’ saved [1237248594/1237248594]\n",
            "\n",
            "Archive:  marco.zip\n",
            "   creating: marco/\n",
            "  inflating: marco/checkpoint        \n",
            "  inflating: marco/graph.pbtxt       \n",
            "  inflating: marco/model.ckpt-65816.data-00000-of-00001  \n",
            "  inflating: marco/model.ckpt-65816.index  \n",
            "  inflating: marco/model.ckpt-65816.meta  \n",
            "  inflating: marco/train.tf_record   \n"
          ],
          "name": "stdout"
        }
      ]
    },
    {
      "cell_type": "code",
      "metadata": {
        "colab": {
          "base_uri": "https://localhost:8080/"
        },
        "id": "ng06jVgxa2B7",
        "outputId": "a999fa3a-a89d-4190-8372-b5860385c0cd"
      },
      "source": [
        "if not os.path.exists(\"uncased_L-12_H-768_A-12.zip\"):\n",
        "  !wget https://storage.googleapis.com/bert_models/2020_02_20/uncased_L-12_H-768_A-12.zip\n",
        "  !unzip uncased_L-12_H-768_A-12.zip\n",
        "  !mkdir -p bert-base-uncased\n",
        "  !mv vocab.txt bert_* bert-base-uncased/"
      ],
      "execution_count": 5,
      "outputs": [
        {
          "output_type": "stream",
          "text": [
            "--2021-03-19 22:57:53--  https://storage.googleapis.com/bert_models/2020_02_20/uncased_L-12_H-768_A-12.zip\n",
            "Resolving storage.googleapis.com (storage.googleapis.com)... 74.125.20.128, 142.250.99.128, 74.125.197.128, ...\n",
            "Connecting to storage.googleapis.com (storage.googleapis.com)|74.125.20.128|:443... connected.\n",
            "HTTP request sent, awaiting response... 200 OK\n",
            "Length: 408102251 (389M) [application/zip]\n",
            "Saving to: ‘uncased_L-12_H-768_A-12.zip’\n",
            "\n",
            "uncased_L-12_H-768_ 100%[===================>] 389.20M  38.7MB/s    in 10s     \n",
            "\n",
            "2021-03-19 22:58:03 (38.0 MB/s) - ‘uncased_L-12_H-768_A-12.zip’ saved [408102251/408102251]\n",
            "\n",
            "Archive:  uncased_L-12_H-768_A-12.zip\n",
            "  inflating: bert_model.ckpt.data-00000-of-00001  \n",
            "  inflating: bert_config.json        \n",
            "  inflating: vocab.txt               \n",
            "  inflating: bert_model.ckpt.index   \n"
          ],
          "name": "stdout"
        }
      ]
    },
    {
      "cell_type": "code",
      "metadata": {
        "id": "og2rSbT-ZhLP"
      },
      "source": [
        "deepct = pyterrier_deepct.DeepCTTransformer(\"bert-base-uncased/bert_config.json\", \"marco/model.ckpt-65816\")"
      ],
      "execution_count": 6,
      "outputs": []
    },
    {
      "cell_type": "code",
      "metadata": {
        "colab": {
          "base_uri": "https://localhost:8080/",
          "height": 77
        },
        "id": "9lUHLpmMc3S2",
        "outputId": "96bd6332-8505-4c82-bfd3-55314fe51341"
      },
      "source": [
        "import pandas as pd\n",
        "df = pd.DataFrame([{\"docno\" : \"d1\", \"text\" :\"this is a test document\"}])\n",
        "df"
      ],
      "execution_count": 7,
      "outputs": [
        {
          "output_type": "execute_result",
          "data": {
            "text/html": [
              "<div>\n",
              "<style scoped>\n",
              "    .dataframe tbody tr th:only-of-type {\n",
              "        vertical-align: middle;\n",
              "    }\n",
              "\n",
              "    .dataframe tbody tr th {\n",
              "        vertical-align: top;\n",
              "    }\n",
              "\n",
              "    .dataframe thead th {\n",
              "        text-align: right;\n",
              "    }\n",
              "</style>\n",
              "<table border=\"1\" class=\"dataframe\">\n",
              "  <thead>\n",
              "    <tr style=\"text-align: right;\">\n",
              "      <th></th>\n",
              "      <th>docno</th>\n",
              "      <th>text</th>\n",
              "    </tr>\n",
              "  </thead>\n",
              "  <tbody>\n",
              "    <tr>\n",
              "      <th>0</th>\n",
              "      <td>d1</td>\n",
              "      <td>this is a test document</td>\n",
              "    </tr>\n",
              "  </tbody>\n",
              "</table>\n",
              "</div>"
            ],
            "text/plain": [
              "  docno                     text\n",
              "0    d1  this is a test document"
            ]
          },
          "metadata": {
            "tags": []
          },
          "execution_count": 7
        }
      ]
    },
    {
      "cell_type": "code",
      "metadata": {
        "colab": {
          "base_uri": "https://localhost:8080/",
          "height": 77
        },
        "id": "sdEwJeDedXj6",
        "outputId": "73d38104-9534-463f-f3dd-d6fe5fbca491"
      },
      "source": [
        "deepct.transform(df).iloc[0][\"text\"]"
      ],
      "execution_count": 8,
      "outputs": [
        {
          "output_type": "execute_result",
          "data": {
            "text/html": [
              "<div>\n",
              "<style scoped>\n",
              "    .dataframe tbody tr th:only-of-type {\n",
              "        vertical-align: middle;\n",
              "    }\n",
              "\n",
              "    .dataframe tbody tr th {\n",
              "        vertical-align: top;\n",
              "    }\n",
              "\n",
              "    .dataframe thead th {\n",
              "        text-align: right;\n",
              "    }\n",
              "</style>\n",
              "<table border=\"1\" class=\"dataframe\">\n",
              "  <thead>\n",
              "    <tr style=\"text-align: right;\">\n",
              "      <th></th>\n",
              "      <th>docno</th>\n",
              "      <th>text</th>\n",
              "    </tr>\n",
              "  </thead>\n",
              "  <tbody>\n",
              "    <tr>\n",
              "      <th>0</th>\n",
              "      <td>d1</td>\n",
              "      <td>this this this this this is test test test tes...</td>\n",
              "    </tr>\n",
              "  </tbody>\n",
              "</table>\n",
              "</div>"
            ],
            "text/plain": [
              "  docno                                               text\n",
              "0    d1  this this this this this is test test test tes..."
            ]
          },
          "metadata": {
            "tags": []
          },
          "execution_count": 8
        }
      ]
    },
    {
      "cell_type": "code",
      "metadata": {
        "colab": {
          "base_uri": "https://localhost:8080/",
          "height": 371,
          "referenced_widgets": [
            "af4396da6fb340319a9f09cae8b9f870",
            "f98f5d57bbeb4469b17c50d2b71df0bd",
            "98f37ddaa2a6478e805f074cb2b0c995",
            "0dd5df05abbe404499fd5d072d4c74d7",
            "c512500b01b34f6fbf79dda19afea9fe",
            "337b20be920b4977b952398b7e70aeee",
            "a52e894d64a040d3a8663f9bf74b9ced",
            "b80f093c245948fd803dffa91f3a733b",
            "8563db7b78e34c94b21dfd04766307ad",
            "d8476a3876014eda80099615d3c39587",
            "99d5088f28ac41f3ac73eff6639af65b"
          ]
        },
        "id": "OGSQjCduotpQ",
        "outputId": "cfa1d2a1-231e-4a24-93ab-9c33b468ad48"
      },
      "source": [
        "dataset = pt.get_dataset(\"irds:vaswani\")\n",
        "index_loc = \"./deepct_index_path\"\n",
        "indexer = deepct >> pt.IterDictIndexer(index_loc)\n",
        "indexref = indexer.index(dataset.get_corpus_iter())\n"
      ],
      "execution_count": 9,
      "outputs": [
        {
          "output_type": "stream",
          "text": [
            "[INFO] [starting] building docstore\n",
            "[INFO] If you have a local copy of http://ir.dcs.gla.ac.uk/resources/test_collections/npl/npl.tar.gz, you can symlink it here to avoid downloading it again: /root/.ir_datasets/downloads/23e5607081191b153738e81fbd834680\n",
            "[INFO] [starting] http://ir.dcs.gla.ac.uk/resources/test_collections/npl/npl.tar.gz\n",
            "docs_iter: 0it [00:00, ?it/s]\n",
            "http://ir.dcs.gla.ac.uk/resources/test_collections/npl/npl.tar.gz: 0.0%| 0.00/2.13M [00:00<?, ?B/s]\u001b[A\n",
            "http://ir.dcs.gla.ac.uk/resources/test_collections/npl/npl.tar.gz: 0.8%| 16.4k/2.13M [00:00<00:16, 129kB/s]\u001b[A\n",
            "http://ir.dcs.gla.ac.uk/resources/test_collections/npl/npl.tar.gz: 2.3%| 49.2k/2.13M [00:00<00:11, 186kB/s]\u001b[A\n",
            "http://ir.dcs.gla.ac.uk/resources/test_collections/npl/npl.tar.gz: 4.2%| 90.1k/2.13M [00:00<00:09, 225kB/s]\u001b[A\n",
            "http://ir.dcs.gla.ac.uk/resources/test_collections/npl/npl.tar.gz: 6.9%| 147k/2.13M [00:00<00:07, 274kB/s] \u001b[A\n",
            "http://ir.dcs.gla.ac.uk/resources/test_collections/npl/npl.tar.gz: 14.6%| 311k/2.13M [00:00<00:03, 463kB/s]\u001b[A\n",
            "http://ir.dcs.gla.ac.uk/resources/test_collections/npl/npl.tar.gz: 29.7%| 631k/2.13M [00:00<00:01, 780kB/s]\u001b[A\n",
            "\n",
            "\u001b[A[INFO] [finished] http://ir.dcs.gla.ac.uk/resources/test_collections/npl/npl.tar.gz: [00:00] [2.13MB] [2.22MB/s]\n",
            "docs_iter: 0it [00:01, ?it/s]\n",
            "http://ir.dcs.gla.ac.uk/resources/test_collections/npl/npl.tar.gz: [00:00] [2.13MB] [2.21MB/s]\u001b[A\n",
            "docs_iter: 11429it [00:01, 7261.05it/s]\n",
            "[INFO] [finished] docs_iter: [00:01] [11429it] [7258.29it/s]\n",
            "[INFO] [finished] building docstore [1.58s]\n"
          ],
          "name": "stderr"
        },
        {
          "output_type": "display_data",
          "data": {
            "application/vnd.jupyter.widget-view+json": {
              "model_id": "af4396da6fb340319a9f09cae8b9f870",
              "version_major": 2,
              "version_minor": 0
            },
            "text/plain": [
              "vaswani documents:   0%|          | 0/11429 [00:00<?, ?it/s]"
            ]
          },
          "metadata": {
            "tags": []
          }
        }
      ]
    },
    {
      "cell_type": "code",
      "metadata": {
        "colab": {
          "base_uri": "https://localhost:8080/",
          "height": 106
        },
        "id": "2a2LSDeLpCq4",
        "outputId": "d17ae0d8-bfec-410e-c680-6174032a8355"
      },
      "source": [
        "pt.Experiment([\n",
        "  pt.BatchRetrieve(pt.get_dataset(\"vaswani\").get_index(), wmodel=\"BM25\"),\n",
        "  pt.BatchRetrieve(indexref, wmodel=\"BM25\"),\n",
        "  ],\n",
        "  dataset.get_topics(),\n",
        "  dataset.get_qrels(),\n",
        "  names=[\"BM25\", \"BM25_deepct\"],\n",
        "  eval_metrics=[\"map\", \"recip_rank\"]\n",
        ")"
      ],
      "execution_count": 12,
      "outputs": [
        {
          "output_type": "execute_result",
          "data": {
            "text/html": [
              "<div>\n",
              "<style scoped>\n",
              "    .dataframe tbody tr th:only-of-type {\n",
              "        vertical-align: middle;\n",
              "    }\n",
              "\n",
              "    .dataframe tbody tr th {\n",
              "        vertical-align: top;\n",
              "    }\n",
              "\n",
              "    .dataframe thead th {\n",
              "        text-align: right;\n",
              "    }\n",
              "</style>\n",
              "<table border=\"1\" class=\"dataframe\">\n",
              "  <thead>\n",
              "    <tr style=\"text-align: right;\">\n",
              "      <th></th>\n",
              "      <th>name</th>\n",
              "      <th>map</th>\n",
              "      <th>recip_rank</th>\n",
              "    </tr>\n",
              "  </thead>\n",
              "  <tbody>\n",
              "    <tr>\n",
              "      <th>0</th>\n",
              "      <td>BM25</td>\n",
              "      <td>0.296517</td>\n",
              "      <td>0.725665</td>\n",
              "    </tr>\n",
              "    <tr>\n",
              "      <th>1</th>\n",
              "      <td>BM25_deepct</td>\n",
              "      <td>0.296275</td>\n",
              "      <td>0.706092</td>\n",
              "    </tr>\n",
              "  </tbody>\n",
              "</table>\n",
              "</div>"
            ],
            "text/plain": [
              "          name       map  recip_rank\n",
              "0         BM25  0.296517    0.725665\n",
              "1  BM25_deepct  0.296275    0.706092"
            ]
          },
          "metadata": {
            "tags": []
          },
          "execution_count": 12
        }
      ]
    },
    {
      "cell_type": "code",
      "metadata": {
        "id": "IWOipjfAwBE8"
      },
      "source": [
        ""
      ],
      "execution_count": null,
      "outputs": []
    }
  ]
}